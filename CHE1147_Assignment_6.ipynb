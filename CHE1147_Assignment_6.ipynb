{
 "cells": [
  {
   "cell_type": "code",
   "execution_count": 1,
   "metadata": {},
   "outputs": [],
   "source": [
    "import pandas as pd\n",
    "import numpy as np\n",
    "import matplotlib.pyplot as plt \n",
    "%matplotlib inline\n",
    "from sklearn.model_selection import train_test_split\n",
    "from sklearn.tree import DecisionTreeClassifier\n",
    "from sklearn.metrics import roc_curve,auc"
   ]
  },
  {
   "cell_type": "markdown",
   "metadata": {},
   "source": [
    "## 1.1 Dataset size vs. model performance"
   ]
  },
  {
   "cell_type": "code",
   "execution_count": 2,
   "metadata": {},
   "outputs": [],
   "source": [
    "mth_rolling_features = pd.read_excel('mth_rolling_features.xlsx')\n",
    "mth_day_counts = pd.read_excel('mth_day_counts.xlsx')\n",
    "days_since_last_txn = pd.read_excel('days_since_last_txn.xlsx')\n",
    "retail_data_response = pd.read_csv('Retail_Data_Response.csv')"
   ]
  },
  {
   "cell_type": "code",
   "execution_count": 3,
   "metadata": {},
   "outputs": [],
   "source": [
    "mth_day_counts['customer_id'].fillna(method='ffill',inplace=True)\n",
    "monthly_features_outputs = mth_rolling_features.merge(mth_day_counts, how='left', left_on=['CLNT_NO','ME_DT'], right_on=['customer_id','ME_DT'])\n",
    "monthly_features_outputs.drop(columns='customer_id',inplace=True)\n",
    "monthly_features_outputs = monthly_features_outputs.merge(days_since_last_txn, how='left', on=['CLNT_NO','ME_DT'])\n",
    "monthly_features_outputs = monthly_features_outputs.merge(retail_data_response, how='left', left_on='CLNT_NO',right_on='customer_id')\n",
    "monthly_features_outputs.drop(columns='customer_id',inplace=True)\n",
    "monthly_features_outputs.fillna(0, inplace=True) # fillna with 0"
   ]
  },
  {
   "cell_type": "code",
   "execution_count": 4,
   "metadata": {},
   "outputs": [
    {
     "data": {
      "text/html": [
       "<div>\n",
       "<style scoped>\n",
       "    .dataframe tbody tr th:only-of-type {\n",
       "        vertical-align: middle;\n",
       "    }\n",
       "\n",
       "    .dataframe tbody tr th {\n",
       "        vertical-align: top;\n",
       "    }\n",
       "\n",
       "    .dataframe thead th {\n",
       "        text-align: right;\n",
       "    }\n",
       "</style>\n",
       "<table border=\"1\" class=\"dataframe\">\n",
       "  <thead>\n",
       "    <tr style=\"text-align: right;\">\n",
       "      <th></th>\n",
       "      <th>CLNT_NO</th>\n",
       "      <th>ME_DT</th>\n",
       "      <th>mth_txn_amt_sum</th>\n",
       "      <th>mth_txn_cnt</th>\n",
       "      <th>amt_sum_3M</th>\n",
       "      <th>amt_mean_3M</th>\n",
       "      <th>amt_max_3M</th>\n",
       "      <th>txn_cnt_sum_3M</th>\n",
       "      <th>txn_cnt_mean_3M</th>\n",
       "      <th>txn_cnt_max_3M</th>\n",
       "      <th>...</th>\n",
       "      <th>txn_cnt_max_12M</th>\n",
       "      <th>cnt_Friday</th>\n",
       "      <th>cnt_Monday</th>\n",
       "      <th>cnt_Saturday</th>\n",
       "      <th>cnt_Sunday</th>\n",
       "      <th>cnt_Thursday</th>\n",
       "      <th>cnt_Tuesday</th>\n",
       "      <th>cnt_Wednesday</th>\n",
       "      <th>days_since_last_txn</th>\n",
       "      <th>response</th>\n",
       "    </tr>\n",
       "  </thead>\n",
       "  <tbody>\n",
       "    <tr>\n",
       "      <th>0</th>\n",
       "      <td>CS1112</td>\n",
       "      <td>2011-05-31</td>\n",
       "      <td>0</td>\n",
       "      <td>0</td>\n",
       "      <td>0.0</td>\n",
       "      <td>0.000000</td>\n",
       "      <td>0.0</td>\n",
       "      <td>0.0</td>\n",
       "      <td>0.000000</td>\n",
       "      <td>0.0</td>\n",
       "      <td>...</td>\n",
       "      <td>0.0</td>\n",
       "      <td>0.0</td>\n",
       "      <td>0.0</td>\n",
       "      <td>0.0</td>\n",
       "      <td>0.0</td>\n",
       "      <td>0.0</td>\n",
       "      <td>0.0</td>\n",
       "      <td>0.0</td>\n",
       "      <td>-10</td>\n",
       "      <td>0.0</td>\n",
       "    </tr>\n",
       "    <tr>\n",
       "      <th>1</th>\n",
       "      <td>CS1112</td>\n",
       "      <td>2011-06-30</td>\n",
       "      <td>56</td>\n",
       "      <td>1</td>\n",
       "      <td>0.0</td>\n",
       "      <td>0.000000</td>\n",
       "      <td>0.0</td>\n",
       "      <td>0.0</td>\n",
       "      <td>0.000000</td>\n",
       "      <td>0.0</td>\n",
       "      <td>...</td>\n",
       "      <td>0.0</td>\n",
       "      <td>0.0</td>\n",
       "      <td>0.0</td>\n",
       "      <td>0.0</td>\n",
       "      <td>0.0</td>\n",
       "      <td>0.0</td>\n",
       "      <td>0.0</td>\n",
       "      <td>1.0</td>\n",
       "      <td>15</td>\n",
       "      <td>0.0</td>\n",
       "    </tr>\n",
       "    <tr>\n",
       "      <th>2</th>\n",
       "      <td>CS1112</td>\n",
       "      <td>2011-07-31</td>\n",
       "      <td>0</td>\n",
       "      <td>0</td>\n",
       "      <td>56.0</td>\n",
       "      <td>18.666667</td>\n",
       "      <td>56.0</td>\n",
       "      <td>1.0</td>\n",
       "      <td>0.333333</td>\n",
       "      <td>1.0</td>\n",
       "      <td>...</td>\n",
       "      <td>0.0</td>\n",
       "      <td>0.0</td>\n",
       "      <td>0.0</td>\n",
       "      <td>0.0</td>\n",
       "      <td>0.0</td>\n",
       "      <td>0.0</td>\n",
       "      <td>0.0</td>\n",
       "      <td>0.0</td>\n",
       "      <td>46</td>\n",
       "      <td>0.0</td>\n",
       "    </tr>\n",
       "    <tr>\n",
       "      <th>3</th>\n",
       "      <td>CS1112</td>\n",
       "      <td>2011-08-31</td>\n",
       "      <td>96</td>\n",
       "      <td>1</td>\n",
       "      <td>152.0</td>\n",
       "      <td>50.666667</td>\n",
       "      <td>96.0</td>\n",
       "      <td>2.0</td>\n",
       "      <td>0.666667</td>\n",
       "      <td>1.0</td>\n",
       "      <td>...</td>\n",
       "      <td>0.0</td>\n",
       "      <td>1.0</td>\n",
       "      <td>0.0</td>\n",
       "      <td>0.0</td>\n",
       "      <td>0.0</td>\n",
       "      <td>0.0</td>\n",
       "      <td>0.0</td>\n",
       "      <td>0.0</td>\n",
       "      <td>12</td>\n",
       "      <td>0.0</td>\n",
       "    </tr>\n",
       "    <tr>\n",
       "      <th>4</th>\n",
       "      <td>CS1112</td>\n",
       "      <td>2011-09-30</td>\n",
       "      <td>0</td>\n",
       "      <td>0</td>\n",
       "      <td>96.0</td>\n",
       "      <td>32.000000</td>\n",
       "      <td>96.0</td>\n",
       "      <td>1.0</td>\n",
       "      <td>0.333333</td>\n",
       "      <td>1.0</td>\n",
       "      <td>...</td>\n",
       "      <td>0.0</td>\n",
       "      <td>0.0</td>\n",
       "      <td>0.0</td>\n",
       "      <td>0.0</td>\n",
       "      <td>0.0</td>\n",
       "      <td>0.0</td>\n",
       "      <td>0.0</td>\n",
       "      <td>0.0</td>\n",
       "      <td>42</td>\n",
       "      <td>0.0</td>\n",
       "    </tr>\n",
       "  </tbody>\n",
       "</table>\n",
       "<p>5 rows × 31 columns</p>\n",
       "</div>"
      ],
      "text/plain": [
       "  CLNT_NO      ME_DT  mth_txn_amt_sum  mth_txn_cnt  amt_sum_3M  amt_mean_3M  \\\n",
       "0  CS1112 2011-05-31                0            0         0.0     0.000000   \n",
       "1  CS1112 2011-06-30               56            1         0.0     0.000000   \n",
       "2  CS1112 2011-07-31                0            0        56.0    18.666667   \n",
       "3  CS1112 2011-08-31               96            1       152.0    50.666667   \n",
       "4  CS1112 2011-09-30                0            0        96.0    32.000000   \n",
       "\n",
       "   amt_max_3M  txn_cnt_sum_3M  txn_cnt_mean_3M  txn_cnt_max_3M  ...  \\\n",
       "0         0.0             0.0         0.000000             0.0  ...   \n",
       "1         0.0             0.0         0.000000             0.0  ...   \n",
       "2        56.0             1.0         0.333333             1.0  ...   \n",
       "3        96.0             2.0         0.666667             1.0  ...   \n",
       "4        96.0             1.0         0.333333             1.0  ...   \n",
       "\n",
       "   txn_cnt_max_12M  cnt_Friday  cnt_Monday  cnt_Saturday  cnt_Sunday  \\\n",
       "0              0.0         0.0         0.0           0.0         0.0   \n",
       "1              0.0         0.0         0.0           0.0         0.0   \n",
       "2              0.0         0.0         0.0           0.0         0.0   \n",
       "3              0.0         1.0         0.0           0.0         0.0   \n",
       "4              0.0         0.0         0.0           0.0         0.0   \n",
       "\n",
       "   cnt_Thursday  cnt_Tuesday  cnt_Wednesday  days_since_last_txn  response  \n",
       "0           0.0          0.0            0.0                  -10       0.0  \n",
       "1           0.0          0.0            1.0                   15       0.0  \n",
       "2           0.0          0.0            0.0                   46       0.0  \n",
       "3           0.0          0.0            0.0                   12       0.0  \n",
       "4           0.0          0.0            0.0                   42       0.0  \n",
       "\n",
       "[5 rows x 31 columns]"
      ]
     },
     "execution_count": 4,
     "metadata": {},
     "output_type": "execute_result"
    }
   ],
   "source": [
    "monthly_features_outputs.head()"
   ]
  },
  {
   "cell_type": "markdown",
   "metadata": {},
   "source": [
    "### 1.1.1 Split the train/test sets "
   ]
  },
  {
   "cell_type": "code",
   "execution_count": 5,
   "metadata": {},
   "outputs": [],
   "source": [
    "train, test = train_test_split(monthly_features_outputs, test_size=0.1, random_state = 1147)"
   ]
  },
  {
   "cell_type": "code",
   "execution_count": 6,
   "metadata": {},
   "outputs": [
    {
     "name": "stdout",
     "output_type": "stream",
     "text": [
      "Train shape: (291404, 31)\n",
      "Test shape: (32379, 31)\n"
     ]
    }
   ],
   "source": [
    "print('Train shape:', train.shape)\n",
    "print('Test shape:', test.shape)"
   ]
  },
  {
   "cell_type": "markdown",
   "metadata": {},
   "source": [
    "### 1.1.2 Create loop and test AUC"
   ]
  },
  {
   "cell_type": "markdown",
   "metadata": {},
   "source": [
    "The optimal model from Assignment 5 is decision tree with max depth of 6. "
   ]
  },
  {
   "cell_type": "code",
   "execution_count": 7,
   "metadata": {},
   "outputs": [],
   "source": [
    "# Define inputs X and output y\n",
    "X_test = test.iloc[:,2:-1]\n",
    "y_test = test.iloc[:,-1]"
   ]
  },
  {
   "cell_type": "code",
   "execution_count": 8,
   "metadata": {},
   "outputs": [],
   "source": [
    "# Loop over 1000 samples of 10 times \n",
    "N = 1000\n",
    "auc_train = []\n",
    "auc_test = []\n",
    "for i in range(10): \n",
    "    train_temp = train.sample(n=N, random_state=i)\n",
    "    X_train = train_temp.iloc[:,2:-1]\n",
    "    y_train = train_temp.iloc[:,-1]\n",
    "    dt = DecisionTreeClassifier(max_depth = 6, random_state=0)\n",
    "    dt.fit(X_train, y_train)\n",
    "    # Score train and test set \n",
    "    scores_train = dt.predict_proba(X_train)[:,1] \n",
    "    scores_test  = dt.predict_proba(X_test)[:,1]\n",
    "    # ROC Calc Train set \n",
    "    fpr_train, tpr_train, _ = roc_curve(y_train, scores_train)\n",
    "    # ROC Calc Test set w\n",
    "    fpr_test, tpr_test, _ = roc_curve(y_test, scores_test)\n",
    "    # Calculate the AUCs\n",
    "    auc_train.append(auc(fpr_train, tpr_train))\n",
    "    auc_test.append(auc(fpr_test, tpr_test))"
   ]
  },
  {
   "cell_type": "code",
   "execution_count": 9,
   "metadata": {},
   "outputs": [
    {
     "name": "stdout",
     "output_type": "stream",
     "text": [
      "Mean of test AUC 0.553\n"
     ]
    }
   ],
   "source": [
    "mean_test_AUC = np.mean(auc_test)\n",
    "print('Mean of test AUC', np.round(mean_test_AUC,3))"
   ]
  },
  {
   "cell_type": "code",
   "execution_count": 10,
   "metadata": {},
   "outputs": [
    {
     "name": "stdout",
     "output_type": "stream",
     "text": [
      "Standard deviation of test AUC 0.025\n"
     ]
    }
   ],
   "source": [
    "std_test_AUC = np.std(auc_test)\n",
    "print('Standard deviation of test AUC', np.round(std_test_AUC,3))"
   ]
  },
  {
   "cell_type": "markdown",
   "metadata": {},
   "source": [
    "### 1.1.3 Repeat for different sample size N"
   ]
  },
  {
   "cell_type": "markdown",
   "metadata": {},
   "source": [
    "The sample size ranges from 100 to 200,000. The step size is large to observe significant change in AUC. Each sample size has been sampled 10 times. And mean and standard deviation of test AUC is analyzed. "
   ]
  },
  {
   "cell_type": "code",
   "execution_count": 11,
   "metadata": {},
   "outputs": [
    {
     "name": "stdout",
     "output_type": "stream",
     "text": [
      "N: 100, mean test AUC: 0.518, standard deviation AUC: 0.017\n",
      "N: 1000, mean test AUC: 0.553, standard deviation AUC: 0.025\n",
      "N: 5000, mean test AUC: 0.587, standard deviation AUC: 0.009\n",
      "N: 10000, mean test AUC: 0.605, standard deviation AUC: 0.006\n",
      "N: 50000, mean test AUC: 0.628, standard deviation AUC: 0.003\n",
      "N: 100000, mean test AUC: 0.632, standard deviation AUC: 0.002\n",
      "N: 200000, mean test AUC: 0.636, standard deviation AUC: 0.001\n"
     ]
    }
   ],
   "source": [
    "N_size = [100,1000,5000,10000,50000,100000,200000]\n",
    "auc_train = np.zeros((len(N_size),10))\n",
    "auc_test = np.zeros((len(N_size),10))\n",
    "for N in range(len(N_size)): \n",
    "    for i in range(10): \n",
    "        train_temp = train.sample(n=N_size[N], random_state=i)\n",
    "        X_train = train_temp.iloc[:,2:-1]\n",
    "        y_train = train_temp.iloc[:,-1]\n",
    "        dt = DecisionTreeClassifier(max_depth = 6, random_state=0)\n",
    "        dt.fit(X_train, y_train)\n",
    "        # Score train and test set \n",
    "        scores_train = dt.predict_proba(X_train)[:,1] \n",
    "        scores_test  = dt.predict_proba(X_test)[:,1]\n",
    "        # ROC Calc Train set \n",
    "        fpr_train, tpr_train, _ = roc_curve(y_train, scores_train)\n",
    "        # ROC Calc Test set \n",
    "        fpr_test, tpr_test, _ = roc_curve(y_test, scores_test)\n",
    "        # Calculate the AUCs\n",
    "        auc_train[N][i] = auc(fpr_train, tpr_train)\n",
    "        auc_test[N][i] = auc(fpr_test, tpr_test)\n",
    "    print('N: %d, mean test AUC: %.3f, standard deviation AUC: %.3f'%(N_size[N], np.mean(auc_test[N]), np.std(auc_test[N])))"
   ]
  },
  {
   "cell_type": "code",
   "execution_count": 12,
   "metadata": {},
   "outputs": [],
   "source": [
    "# Save mean and std \n",
    "mean_auc_test = auc_test.mean(axis=1)\n",
    "std_auc_test = auc_test.std(axis=1)"
   ]
  },
  {
   "cell_type": "markdown",
   "metadata": {},
   "source": [
    "### 1.1.4 Build tables "
   ]
  },
  {
   "cell_type": "markdown",
   "metadata": {},
   "source": [
    "| Sample size | Test AUC mean | Test AUC standard deviation |\n",
    "| --- | --- | --- |\n",
    "| 100 | 0.518 | 0.017 |\n",
    "| 1000 |0.553 | 0.025 |\n",
    "| 5000 |0.587 | 0.009 |\n",
    "| 10000 | 0.605 | 0.006 |\n",
    "| 50000 | 0.628 | 0.003 |\n",
    "| 100000 | 0.632 | 0.002|\n",
    "| 200000 | 0.636 | 0.001 |\n",
    "\n",
    "From the table, with increasing sample size, test AUC mean increases and standard deviation decreases. "
   ]
  },
  {
   "cell_type": "markdown",
   "metadata": {},
   "source": [
    "### 1.1.5 Plot errorbar"
   ]
  },
  {
   "cell_type": "code",
   "execution_count": 13,
   "metadata": {
    "scrolled": false
   },
   "outputs": [
    {
     "data": {
      "image/png": "[encoded data removed]",
      "text/plain": [
       "<Figure size 720x432 with 1 Axes>"
      ]
     },
     "metadata": {
      "needs_background": "light"
     },
     "output_type": "display_data"
    }
   ],
   "source": [
    "fig = plt.figure(figsize=(10,6))\n",
    "plt.errorbar(N_size, mean_auc_test, yerr=std_auc_test)\n",
    "plt.xscale('log')\n",
    "plt.ylim((0,1))\n",
    "plt.xlabel('Sample size', fontsize=14)\n",
    "plt.ylabel('Test AUC', fontsize=14)\n",
    "plt.title('Model performance of AUC', fontsize=16)\n",
    "plt.grid()\n",
    "plt.show()"
   ]
  },
  {
   "cell_type": "markdown",
   "metadata": {},
   "source": [
    "From the above plot, increasing the number of training samples helps improve model performance, but upon a certain number of samples, the performance reaches a plateau. It is typical for machine learning models that accuracy is limited. It seems 50,000 samples are needed to obtain a good AUC of 0.628. Upon 50,000 samples, increasing number of samples will improve the AUC slightly. Thus, the minimum number of samples needed to model the behaviour adequately is 50,000. The plot also shows increasing the number of training samples will decrease the standard deviation of test AUC, it implies the model performance on test set becomes stable. "
   ]
  },
  {
   "cell_type": "code",
   "execution_count": null,
   "metadata": {},
   "outputs": [],
   "source": []
  }
 ],
 "metadata": {
  "kernelspec": {
   "display_name": "Python 3",
   "language": "python",
   "name": "python3"
  },
  "language_info": {
   "codemirror_mode": {
    "name": "ipython",
    "version": 3
   },
   "file_extension": ".py",
   "mimetype": "text/x-python",
   "name": "python",
   "nbconvert_exporter": "python",
   "pygments_lexer": "ipython3",
   "version": "3.8.5"
  }
 },
 "nbformat": 4,
 "nbformat_minor": 4
}
